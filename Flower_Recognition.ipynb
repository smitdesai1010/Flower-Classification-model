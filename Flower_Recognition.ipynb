{
  "nbformat": 4,
  "nbformat_minor": 0,
  "metadata": {
    "colab": {
      "name": "Flower Recognition.ipynb",
      "provenance": [],
      "collapsed_sections": [],
      "machine_shape": "hm",
      "authorship_tag": "ABX9TyOuUCbmtd3GB5hzFrOl+yoe",
      "include_colab_link": true
    },
    "kernelspec": {
      "name": "python3",
      "display_name": "Python 3"
    },
    "accelerator": "GPU"
  },
  "cells": [
    {
      "cell_type": "markdown",
      "metadata": {
        "id": "view-in-github",
        "colab_type": "text"
      },
      "source": [
        "<a href=\"https://colab.research.google.com/github/smitdesai1010/Flower-Classification-model/blob/master/Flower_Recognition.ipynb\" target=\"_parent\"><img src=\"https://colab.research.google.com/assets/colab-badge.svg\" alt=\"Open In Colab\"/></a>"
      ]
    },
    {
      "cell_type": "code",
      "metadata": {
        "id": "C0ZyWu4krEsM",
        "colab_type": "code",
        "colab": {}
      },
      "source": [
        "!pip install tensorflow==2.0"
      ],
      "execution_count": 0,
      "outputs": []
    },
    {
      "cell_type": "code",
      "metadata": {
        "id": "wJrGaH_TsCBT",
        "colab_type": "code",
        "colab": {}
      },
      "source": [
        "from google.colab import files\n",
        "\n",
        "files.upload()"
      ],
      "execution_count": 0,
      "outputs": []
    },
    {
      "cell_type": "code",
      "metadata": {
        "id": "o8yzgsbVsQrL",
        "colab_type": "code",
        "outputId": "b89f7834-250f-4f30-b4b0-5d09427c51b0",
        "colab": {
          "base_uri": "https://localhost:8080/",
          "height": 102
        }
      },
      "source": [
        "import json\n",
        "token = {\"username\":\"smitdesai1010\",\"key\":\*********************************\"}\n",
        "with open('/content/kaggle.json', 'w') as file:\n",
        "    json.dump(token, file)\n",
        "\n",
        "!cp /content/kaggle.json ~/.kaggle/kaggle.json\n",
        "\n",
        "!kaggle config set -n path -v{/content}\n",
        "!chmod 600 /root/.kaggle/kaggle.json\n",
        "\n",
        "!kaggle datasets download -d alxmamaev/flowers-recognition"
      ],
      "execution_count": 0,
      "outputs": [
        {
          "output_type": "stream",
          "text": [
            "Warning: Your Kaggle API key is readable by other users on this system! To fix this, you can run 'chmod 600 /root/.kaggle/kaggle.json'\n",
            "- path is now set to: {/content}\n",
            "Downloading flowers-recognition.zip to {/content}/datasets/alxmamaev/flowers-recognition\n",
            " 99% 445M/450M [00:06<00:00, 69.8MB/s]\n",
            "100% 450M/450M [00:06<00:00, 68.5MB/s]\n"
          ],
          "name": "stdout"
        }
      ]
    },
    {
      "cell_type": "code",
      "metadata": {
        "id": "FUO-VnTHs6O4",
        "colab_type": "code",
        "colab": {}
      },
      "source": [
        "import zipfile\n",
        "\n",
        "zf = zipfile.ZipFile('/content/{/content}/datasets/alxmamaev/flowers-recognition/flowers-recognition.zip') \n",
        "zf.extractall()\n",
        "\n",
        "!rm -rf '{' #Deleting the the downloaded Zip files after extracting it "
      ],
      "execution_count": 0,
      "outputs": []
    },
    {
      "cell_type": "code",
      "metadata": {
        "id": "hyBJRx747KrK",
        "colab_type": "code",
        "outputId": "c30fd391-ad30-4d82-a202-dc2f19721b72",
        "colab": {
          "base_uri": "https://localhost:8080/",
          "height": 34
        }
      },
      "source": [
        "import tensorflow as tf\n",
        "import os\n",
        "import cv2\n",
        "import datetime\n",
        "#from tqdm import tqdm\n",
        "\n",
        "import matplotlib.pyplot as plt\n",
        "import matplotlib.image as mpimg\n",
        "\n",
        "import numpy as np\n",
        "\n",
        "from sklearn.model_selection import train_test_split\n",
        "from sklearn.preprocessing import LabelEncoder\n",
        "\n",
        "from keras import backend as K\n",
        "from keras.models import Sequential\n",
        "from keras.layers import Dense\n",
        "from keras.optimizers import Adam,SGD,Adagrad,Adadelta,RMSprop\n",
        "from keras.utils import to_categorical\n",
        "\n",
        "# specifically for cnn\n",
        "from keras.layers import Dropout, Flatten,Activation\n",
        "from keras.layers import Conv2D, MaxPooling2D, BatchNormalization\n",
        "\n",
        "from keras.utils import to_categorical\n",
        "from keras.preprocessing.image import ImageDataGenerator\n"
      ],
      "execution_count": 0,
      "outputs": [
        {
          "output_type": "stream",
          "text": [
            "Using TensorFlow backend.\n"
          ],
          "name": "stderr"
        }
      ]
    },
    {
      "cell_type": "code",
      "metadata": {
        "id": "ZWQPWlfbtJfZ",
        "colab_type": "code",
        "outputId": "ca716673-9dbd-4b1a-fe31-640e9ac91c1a",
        "colab": {
          "base_uri": "https://localhost:8080/",
          "height": 34
        }
      },
      "source": [
        "print(tf.__version__)"
      ],
      "execution_count": 0,
      "outputs": [
        {
          "output_type": "stream",
          "text": [
            "2.2.0-rc2\n"
          ],
          "name": "stdout"
        }
      ]
    },
    {
      "cell_type": "code",
      "metadata": {
        "id": "jfZ9IdHXznsK",
        "colab_type": "code",
        "colab": {}
      },
      "source": [
        "def create_dataset(dir):\n",
        "  path='flowers/'+dir+'/'\n",
        "\n",
        "  for file in  os.listdir(path):\n",
        "\n",
        "    img=cv2.imread(path+file , cv2.IMREAD_COLOR)\n",
        "\n",
        "    try:\n",
        "     img=cv2.resize(img, (250,250))\n",
        "    \n",
        "    except:\n",
        "     continue \n",
        "\n",
        "    images.append(np.array(img))     \n",
        "    label.append(dir)"
      ],
      "execution_count": 0,
      "outputs": []
    },
    {
      "cell_type": "code",
      "metadata": {
        "id": "rO2gLgd4zdZu",
        "colab_type": "code",
        "colab": {}
      },
      "source": [
        "images=[]\n",
        "label=[]"
      ],
      "execution_count": 0,
      "outputs": []
    },
    {
      "cell_type": "code",
      "metadata": {
        "id": "MxtxMvIwnXaz",
        "colab_type": "code",
        "colab": {}
      },
      "source": [
        "create_dataset('daisy')\n",
        "create_dataset('dandelion')\n",
        "create_dataset('rose')\n",
        "create_dataset('sunflower')\n",
        "create_dataset('tulip')"
      ],
      "execution_count": 0,
      "outputs": []
    },
    {
      "cell_type": "code",
      "metadata": {
        "id": "HTc8wtl1n9vS",
        "colab_type": "code",
        "outputId": "6e4716ba-255e-427a-841d-c002554a3964",
        "colab": {
          "base_uri": "https://localhost:8080/",
          "height": 68
        }
      },
      "source": [
        "print(len(images))\n",
        "print(len(label))\n",
        "\n",
        "images=np.asarray(images)\n",
        "\n",
        "print(images.shape)"
      ],
      "execution_count": 0,
      "outputs": [
        {
          "output_type": "stream",
          "text": [
            "4323\n",
            "4323\n",
            "(4323, 250, 250, 3)\n"
          ],
          "name": "stdout"
        }
      ]
    },
    {
      "cell_type": "code",
      "metadata": {
        "id": "JB98g0n-WsK6",
        "colab_type": "code",
        "outputId": "d726f4b1-08f9-4831-8d70-e3b7206a014e",
        "colab": {
          "base_uri": "https://localhost:8080/",
          "height": 34
        }
      },
      "source": [
        "label_encoder=LabelEncoder()\n",
        "integer_encoded=label_encoder.fit_transform(label)\n",
        "\n",
        "encoded=to_categorical(integer_encoded)\n",
        "\n",
        "print(encoded.shape)"
      ],
      "execution_count": 0,
      "outputs": [
        {
          "output_type": "stream",
          "text": [
            "(4323, 5)\n"
          ],
          "name": "stdout"
        }
      ]
    },
    {
      "cell_type": "code",
      "metadata": {
        "id": "gRd8JoWs0AHz",
        "colab_type": "code",
        "colab": {}
      },
      "source": [
        "images=images/255"
      ],
      "execution_count": 0,
      "outputs": []
    },
    {
      "cell_type": "code",
      "metadata": {
        "id": "LY6570gMcsk7",
        "colab_type": "code",
        "colab": {}
      },
      "source": [
        "x_train,x_test,y_train,y_test = train_test_split(images,encoded,test_size=0.25,random_state=40,shuffle=True)"
      ],
      "execution_count": 0,
      "outputs": []
    },
    {
      "cell_type": "code",
      "metadata": {
        "id": "qPxoNymX03yN",
        "colab_type": "code",
        "outputId": "57734272-87e1-4591-da18-9daaffc34cea",
        "colab": {
          "base_uri": "https://localhost:8080/",
          "height": 85
        }
      },
      "source": [
        "print(x_train.shape)\n",
        "print(y_train.shape)\n",
        "\n",
        "print(x_test.shape)\n",
        "print(y_test.shape)"
      ],
      "execution_count": 0,
      "outputs": [
        {
          "output_type": "stream",
          "text": [
            "(3242, 250, 250, 3)\n",
            "(3242, 5)\n",
            "(1081, 250, 250, 3)\n",
            "(1081, 5)\n"
          ],
          "name": "stdout"
        }
      ]
    },
    {
      "cell_type": "code",
      "metadata": {
        "id": "KrmlxTs2zmNV",
        "colab_type": "code",
        "outputId": "4dd2aef4-f4d7-489d-ab04-cbe42589b237",
        "colab": {
          "base_uri": "https://localhost:8080/",
          "height": 391
        }
      },
      "source": [
        "model=tf.keras.models.Sequential([\n",
        "                                  \n",
        "tf.keras.layers.Conv2D(32,(3,3),activation='relu',input_shape=x_train[0].shape),\n",
        "tf.keras.layers.MaxPool2D(pool_size=(2,2)),\n",
        "\n",
        "tf.keras.layers.Conv2D(64,(4,4),activation='relu'),\n",
        "tf.keras.layers.BatchNormalization(),\n",
        "tf.keras.layers.MaxPool2D(pool_size=(3,3)),\n",
        "\n",
        "tf.keras.layers.Conv2D(64,(3,3),activation='relu'),\n",
        "tf.keras.layers.BatchNormalization(),\n",
        "tf.keras.layers.MaxPool2D(pool_size=(3,3)),\n",
        "\n",
        "tf.keras.layers.Conv2D(32,(4,4),activation='relu'),\n",
        "tf.keras.layers.MaxPool2D(pool_size=(2,2)),\n",
        "\n",
        "tf.keras.layers.Flatten(),\n",
        "tf.keras.layers.Dense(256,activation='relu'),\n",
        "tf.keras.layers.Dense(64,activation='relu'),\n",
        "tf.keras.layers.Dense(5,activation='softmax')                                 \n",
        "                                  \n",
        "])"
      ],
      "execution_count": 0,
    {
      "cell_type": "code",
      "metadata": {
        "id": "Jdx3ANrs0pJY",
        "colab_type": "code",
        "colab": {}
      },
      "source": [
        "model.compile(optimizer='adam',loss=tf.keras.losses.categorical_crossentropy,metrics=['accuracy'])"
      ],
      "execution_count": 0,
      "outputs": []
    },
    {
      "cell_type": "code",
      "metadata": {
        "id": "asvZPLTeYurm",
        "colab_type": "code",
        "colab": {}
      },
      "source": [
        "datagen = ImageDataGenerator(\n",
        "        featurewise_center=False, \n",
        "        samplewise_center=False,  \n",
        "        featurewise_std_normalization=False,  \n",
        "        samplewise_std_normalization=False,  \n",
        "        zca_whitening=False,  \n",
        "        rotation_range=10,  \n",
        "        zoom_range = 0.1, \n",
        "        width_shift_range=0.2,  \n",
        "        height_shift_range=0.2, \n",
        "        horizontal_flip=True,  \n",
        "        vertical_flip=False)  \n",
        "\n",
        "\n",
        "datagen.fit(x_train)"
      ],
      "execution_count": 0,
      "outputs": []
    },
    {
      "cell_type": "code",
      "metadata": {
        "id": "jeIr9IQsx-wg",
        "colab_type": "code",
        "colab": {}
      },
      "source": [
        "log_dir = \"logs/fit/\" + datetime.datetime.now().strftime(\"%Y%m%d-%H%M%S\")\n",
        "tensorboard_callback = tf.keras.callbacks.TensorBoard(log_dir=log_dir, histogram_freq=1)"
      ],
      "execution_count": 0,
      "outputs": []
    },
    {
      "cell_type": "code",
      "metadata": {
        "id": "GnTooESv0suf",
        "colab_type": "code",
        "colab": {}
      },
      "source": [
        "model.fit(datagen.flow(x_train,y_train,batch_size=69),epochs=35,validation_data=(x_test,y_test), steps_per_epoch=x_train.shape[0]/69,callbacks=[tensorboard_callback])"
      ],
      "execution_count": 0,
      "outputs": []
    },
    {
      "cell_type": "code",
      "metadata": {
        "id": "ncZhmkdbymkO",
        "colab_type": "code",
        "colab": {}
      },
      "source": [
        "%load_ext tensorboard\n",
        "%tensorboard --logdir logs/fit"
      ],
      "execution_count": 0,
      "outputs": []
    }
  ]
}
